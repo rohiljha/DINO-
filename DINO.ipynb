{
  "nbformat": 4,
  "nbformat_minor": 0,
  "metadata": {
    "colab": {
      "provenance": []
    },
    "kernelspec": {
      "name": "python3",
      "display_name": "Python 3"
    },
    "language_info": {
      "name": "python"
    }
  },
  "cells": [
    {
      "cell_type": "markdown",
      "source": [
        "# 1. **Setup The Environment (GPU)**"
      ],
      "metadata": {
        "id": "MFQTF_8zJnn3"
      }
    },
    {
      "cell_type": "code",
      "execution_count": null,
      "metadata": {
        "id": "N7K2Is4NH2zZ"
      },
      "outputs": [],
      "source": [
        "import torch\n",
        "import sys\n",
        "!pip install yapf==0.31.0\n",
        "print(torch.cuda.is_available())  # Should return True\n",
        "print(torch.cuda.get_device_name(0))  # Check GPU name"
      ]
    },
    {
      "cell_type": "markdown",
      "source": [
        "# 2. **Setup The Repository**"
      ],
      "metadata": {
        "id": "EsuTbC04KM-c"
      }
    },
    {
      "cell_type": "code",
      "source": [
        "!git clone https://github.com/IDEA-Research/DINO.git"
      ],
      "metadata": {
        "id": "ylVqxNBjH-gU"
      },
      "execution_count": null,
      "outputs": []
    },
    {
      "cell_type": "markdown",
      "source": [
        "2.1 Installing the Dependencies"
      ],
      "metadata": {
        "id": "vWoETtOXKeGo"
      }
    },
    {
      "cell_type": "code",
      "source": [
        "!pip install -r DINO/requirements.txt"
      ],
      "metadata": {
        "id": "V9FRamWoIDgC"
      },
      "execution_count": null,
      "outputs": []
    },
    {
      "cell_type": "markdown",
      "source": [
        "2.2 Adding the path of files to Environment system so that python can find and run it."
      ],
      "metadata": {
        "id": "3cU9H6rsKqx-"
      }
    },
    {
      "cell_type": "code",
      "source": [
        "sys.path.append('/content/DINO/models/dino/ops')"
      ],
      "metadata": {
        "id": "YVg2JvTuIGMK"
      },
      "execution_count": null,
      "outputs": []
    },
    {
      "cell_type": "markdown",
      "source": [
        "2.3 Running Files to setup the dependencies"
      ],
      "metadata": {
        "id": "9Rfky5YXLESq"
      }
    },
    {
      "cell_type": "code",
      "source": [
        "%cd /content/DINO/models/dino/ops\n",
        "!python setup.py build install"
      ],
      "metadata": {
        "id": "jYt86ueZIJjI"
      },
      "execution_count": null,
      "outputs": []
    },
    {
      "cell_type": "markdown",
      "source": [
        "2.4 Testing the setup"
      ],
      "metadata": {
        "id": "vD89wRBWLMjp"
      }
    },
    {
      "cell_type": "code",
      "source": [
        "!python test.py"
      ],
      "metadata": {
        "id": "YkP4ABkSIMIg"
      },
      "execution_count": null,
      "outputs": []
    },
    {
      "cell_type": "markdown",
      "source": [
        "## 3. **Importing Libraries For Further Use**"
      ],
      "metadata": {
        "id": "kD9hduyqLSp_"
      }
    },
    {
      "cell_type": "code",
      "source": [
        "import os\n",
        "import json\n",
        "import numpy as np\n",
        "sys.path.append('/content/DINO')\n",
        "from main import build_model_main\n",
        "from util.slconfig import SLConfig\n",
        "from datasets import build_dataset\n",
        "from util.visualizer import COCOVisualizer\n",
        "from util import box_ops"
      ],
      "metadata": {
        "id": "Rza_nH6KIOfv"
      },
      "execution_count": null,
      "outputs": []
    },
    {
      "cell_type": "markdown",
      "source": [
        "4. **To Slice the annotation file for train and validation**"
      ],
      "metadata": {
        "id": "QXsecjecLhRN"
      }
    },
    {
      "cell_type": "code",
      "source": [
        "# import json\n",
        "\n",
        "# # Path to your original annotations file Train/Validation\n",
        "# annotation_file_path = \"/content/DATASET/annotations/instances_val2017.json\"\n",
        "# # Path to save the modified annotations file Train/Validation\n",
        "# output_file_path = \"/content/DATASET/annotations/val.json\"\n",
        "\n",
        "# # Define the categories (adjust as needed)\n",
        "# categories = [\n",
        "#     { \"id\": 1, \"name\": \"person\" }\n",
        "#     # Add more categories here if needed\n",
        "# ]\n",
        "\n",
        "# # Load existing annotations\n",
        "# with open(annotation_file_path, 'r') as file:\n",
        "#     data = json.load(file)\n",
        "\n",
        "# # Add the 'categories' field\n",
        "# data['categories'] = categories\n",
        "\n",
        "# # Save the modified annotations\n",
        "# with open(output_file_path, 'w') as file:\n",
        "#     json.dump(data, file, indent=4)\n",
        "\n",
        "# print(\"Added 'categories' field successfully.\")\n"
      ],
      "metadata": {
        "id": "t-WuECCwIRWh"
      },
      "execution_count": null,
      "outputs": []
    },
    {
      "cell_type": "markdown",
      "source": [
        "# **5. Evaluation And Visualization**"
      ],
      "metadata": {
        "id": "itMPT1oRMBFP"
      }
    },
    {
      "cell_type": "code",
      "source": [
        " pip install --upgrade pycocotools"
      ],
      "metadata": {
        "id": "YIPjOzDgIgFJ"
      },
      "execution_count": null,
      "outputs": []
    },
    {
      "cell_type": "code",
      "source": [
        "%cd /content/DINO\n",
        "!bash scripts/DINO_eval.sh /content/DATASET /content/checkpoint0011_4scale.pth"
      ],
      "metadata": {
        "id": "AEyvKkxnIivD"
      },
      "execution_count": null,
      "outputs": []
    },
    {
      "cell_type": "code",
      "source": [
        "model_config_path = \"/content/DINO/config/DINO/DINO_4scale.py\" # change the path of the model config file\n",
        "model_checkpoint_path = \"/content/checkpoint0011_4scale.pth\" # change the path of the model checkpoint\n",
        "# See our Model Zoo section in README.md for more details about our pretrained models."
      ],
      "metadata": {
        "id": "6Bi2jdVEIlSH"
      },
      "execution_count": null,
      "outputs": []
    },
    {
      "cell_type": "code",
      "source": [
        "sys.path.append('/usr/local/lib/python3.10/dist-packages/MultiScaleDeformableAttention-1.0-py3.10-linux-x86_64.egg')"
      ],
      "metadata": {
        "id": "-Yr_XDefIoig"
      },
      "execution_count": null,
      "outputs": []
    },
    {
      "cell_type": "code",
      "source": [
        "model_config_path = \"/content/DINO/config/DINO/DINO_4scale.py\" # change the path of the model config file\n",
        "model_checkpoint_path = \"/content/checkpoint0011_4scale.pth\" # change the path of the model checkpoint\n",
        "# See our Model Zoo section in README.md for more details about our pretrained models.\n",
        "\n",
        "args = SLConfig.fromfile(model_config_path)\n",
        "args.device = 'cuda'\n",
        "model, criterion, postprocessors = build_model_main(args)\n",
        "checkpoint = torch.load(model_checkpoint_path, map_location='cpu')\n",
        "model.load_state_dict(checkpoint['model'])\n",
        "_ = model.eval()"
      ],
      "metadata": {
        "id": "L4AQ6ViPIrmY"
      },
      "execution_count": null,
      "outputs": []
    },
    {
      "cell_type": "code",
      "source": [
        "with open('util/coco_id2name.json') as f:\n",
        "    id2name = json.load(f)\n",
        "    id2name = {int(k):v for k,v in id2name.items()}"
      ],
      "metadata": {
        "id": "GqYOeiGbIytg"
      },
      "execution_count": null,
      "outputs": []
    },
    {
      "cell_type": "code",
      "source": [
        "args.dataset_file = 'coco'\n",
        "args.coco_path = \"/content/DATASET\" # the path of coco\n",
        "args.fix_size = False\n",
        "\n",
        "dataset_val = build_dataset(image_set='val', args=args)"
      ],
      "metadata": {
        "id": "sCjQSyaHI1zK"
      },
      "execution_count": null,
      "outputs": []
    },
    {
      "cell_type": "code",
      "source": [
        "image, targets = dataset_val[1]\n",
        "# build gt_dict for vis\n",
        "box_label = [id2name[int(item)] for item in targets['labels']]\n",
        "gt_dict = {\n",
        "    'boxes': targets['boxes'],\n",
        "    'image_id': targets['image_id'],\n",
        "    'size': targets['size'],\n",
        "    'box_label': box_label,\n",
        "}\n",
        "vslzr = COCOVisualizer()\n",
        "vslzr.visualize(image, gt_dict, savedir=None)"
      ],
      "metadata": {
        "id": "IL5ccDsXI4rb"
      },
      "execution_count": null,
      "outputs": []
    },
    {
      "cell_type": "code",
      "source": [
        "output = model.cuda()(image[None].cuda())\n",
        "output = postprocessors['bbox'](output, torch.Tensor([[1.0, 1.0]]).cuda())[0]"
      ],
      "metadata": {
        "id": "dGAB1JliI7LZ"
      },
      "execution_count": null,
      "outputs": []
    },
    {
      "cell_type": "code",
      "source": [
        "thershold = 0.3 # set a thershold\n",
        "\n",
        "scores = output['scores']\n",
        "labels = output['labels']\n",
        "boxes = box_ops.box_xyxy_to_cxcywh(output['boxes'])\n",
        "select_mask = scores > thershold"
      ],
      "metadata": {
        "id": "hi3tb4_RI92s"
      },
      "execution_count": null,
      "outputs": []
    },
    {
      "cell_type": "code",
      "source": [
        "box_label = [id2name[int(item)] for item in labels[select_mask]]\n",
        "pred_dict = {\n",
        "    'boxes': boxes[select_mask],\n",
        "    'size': targets['size'],\n",
        "    'box_label': box_label\n",
        "}\n",
        "vslzr.visualize(image, pred_dict, savedir=None)"
      ],
      "metadata": {
        "id": "UXkYPiMKJAmg"
      },
      "execution_count": null,
      "outputs": []
    },
    {
      "cell_type": "markdown",
      "source": [
        "# ***6. Model Training on Pedestarian Dataset ***\n",
        "\n",
        " ( After changing some parameters for experiments )"
      ],
      "metadata": {
        "id": "z8LjONqwMebn"
      }
    },
    {
      "cell_type": "code",
      "source": [
        "!bash scripts/DINO_train.sh /content/DATASET"
      ],
      "metadata": {
        "id": "7pQSnzWaJHe2"
      },
      "execution_count": null,
      "outputs": []
    }
  ]
}